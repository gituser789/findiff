{
 "cells": [
  {
   "cell_type": "code",
   "execution_count": 1,
   "outputs": [],
   "source": [
    "from findiff import Stencil\n",
    "from findiff.symbolics import Equation\n",
    "from sympy import Symbol, Eq, IndexedBase, solve\n",
    "import sympy"
   ],
   "metadata": {
    "collapsed": false,
    "pycharm": {
     "name": "#%%\n"
    }
   }
  },
  {
   "cell_type": "code",
   "execution_count": 2,
   "outputs": [
    {
     "data": {
      "text/plain": "f[i + 1, j]/\\Delta**2 + f[i - 1, j]/\\Delta**2 + f[i, j + 1]/\\Delta**2 + f[i, j - 1]/\\Delta**2 - 4*f[i, j]/\\Delta**2",
      "text/latex": "$\\displaystyle \\frac{{f}_{i + 1,j}}{\\Delta^{2}} + \\frac{{f}_{i - 1,j}}{\\Delta^{2}} + \\frac{{f}_{i,j + 1}}{\\Delta^{2}} + \\frac{{f}_{i,j - 1}}{\\Delta^{2}} - \\frac{4 {f}_{i,j}}{\\Delta^{2}}$"
     },
     "execution_count": 2,
     "metadata": {},
     "output_type": "execute_result"
    }
   ],
   "source": [
    "offsets = [(0, 0), (1, 0), (-1, 0), (0, 1), (0, -1)]\n",
    "\n",
    "stencil = Stencil(offsets, {(2, 0): 1, (0,2): 1}, spacings=[r'\\Delta']*2, symbolic=True)\n",
    "expr, symbols = stencil.as_expression('f', [Symbol('i'), Symbol('j')])\n",
    "expr\n"
   ],
   "metadata": {
    "collapsed": false,
    "pycharm": {
     "name": "#%%\n"
    }
   }
  },
  {
   "cell_type": "code",
   "execution_count": 3,
   "outputs": [
    {
     "data": {
      "text/plain": "{'indices': [i, j], 'function': f, 'spacings': [\\Delta, \\Delta]}"
     },
     "execution_count": 3,
     "metadata": {},
     "output_type": "execute_result"
    }
   ],
   "source": [
    "symbols"
   ],
   "metadata": {
    "collapsed": false,
    "pycharm": {
     "name": "#%%\n"
    }
   }
  },
  {
   "cell_type": "code",
   "execution_count": 4,
   "outputs": [],
   "source": [
    "i, j = symbols['indices']\n",
    "f = symbols['function']\n",
    "dx, _ = symbols['spacings']"
   ],
   "metadata": {
    "collapsed": false,
    "pycharm": {
     "name": "#%%\n"
    }
   }
  },
  {
   "cell_type": "code",
   "execution_count": 5,
   "outputs": [],
   "source": [
    "rho = IndexedBase(r'\\rho')\n",
    "expr = expr.together()"
   ],
   "metadata": {
    "collapsed": false,
    "pycharm": {
     "name": "#%%\n"
    }
   }
  },
  {
   "cell_type": "code",
   "execution_count": 6,
   "outputs": [
    {
     "data": {
      "text/plain": "Eq((f[i + 1, j] + f[i - 1, j] + f[i, j + 1] + f[i, j - 1] - 4*f[i, j])/\\Delta**2, \\rho[i, j])",
      "text/latex": "$\\displaystyle \\frac{{f}_{i + 1,j} + {f}_{i - 1,j} + {f}_{i,j + 1} + {f}_{i,j - 1} - 4 {f}_{i,j}}{\\Delta^{2}} = {\\rho}_{i,j}$"
     },
     "execution_count": 6,
     "metadata": {},
     "output_type": "execute_result"
    }
   ],
   "source": [
    "eq = Equation(expr, rho[i, j])\n",
    "eq"
   ],
   "metadata": {
    "collapsed": false,
    "pycharm": {
     "name": "#%%\n"
    }
   }
  },
  {
   "cell_type": "code",
   "execution_count": 7,
   "outputs": [
    {
     "data": {
      "text/plain": "Eq(f[i + 1, j] + f[i - 1, j] + f[i, j + 1] + f[i, j - 1] - 4*f[i, j], \\Delta**2*\\rho[i, j])",
      "text/latex": "$\\displaystyle {f}_{i + 1,j} + {f}_{i - 1,j} + {f}_{i,j + 1} + {f}_{i,j - 1} - 4 {f}_{i,j} = \\Delta^{2} {\\rho}_{i,j}$"
     },
     "execution_count": 7,
     "metadata": {},
     "output_type": "execute_result"
    }
   ],
   "source": [
    "eq * dx**2"
   ],
   "metadata": {
    "collapsed": false,
    "pycharm": {
     "name": "#%%\n"
    }
   }
  },
  {
   "cell_type": "code",
   "execution_count": 9,
   "outputs": [
    {
     "data": {
      "text/plain": "Eq(\\Delta**2*\\rho[i, j], f[i + 1, j] + f[i - 1, j] + f[i, j + 1] + f[i, j - 1] - 4*f[i, j])",
      "text/latex": "$\\displaystyle \\Delta^{2} {\\rho}_{i,j} = {f}_{i + 1,j} + {f}_{i - 1,j} + {f}_{i,j + 1} + {f}_{i,j - 1} - 4 {f}_{i,j}$"
     },
     "execution_count": 9,
     "metadata": {},
     "output_type": "execute_result"
    }
   ],
   "source": [
    "_7.swap()"
   ],
   "metadata": {
    "collapsed": false,
    "pycharm": {
     "name": "#%%\n"
    }
   }
  },
  {
   "cell_type": "code",
   "execution_count": 12,
   "outputs": [],
   "source": [
    "from findiff.symbolics import sqrt\n"
   ],
   "metadata": {
    "collapsed": false,
    "pycharm": {
     "name": "#%%\n"
    }
   }
  },
  {
   "cell_type": "code",
   "execution_count": null,
   "outputs": [],
   "source": [],
   "metadata": {
    "collapsed": false,
    "pycharm": {
     "name": "#%%\n"
    }
   }
  }
 ],
 "metadata": {
  "kernelspec": {
   "display_name": "Python 3",
   "language": "python",
   "name": "python3"
  },
  "language_info": {
   "codemirror_mode": {
    "name": "ipython",
    "version": 2
   },
   "file_extension": ".py",
   "mimetype": "text/x-python",
   "name": "python",
   "nbconvert_exporter": "python",
   "pygments_lexer": "ipython2",
   "version": "2.7.6"
  }
 },
 "nbformat": 4,
 "nbformat_minor": 0
}