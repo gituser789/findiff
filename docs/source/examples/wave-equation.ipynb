{
 "cells": [
  {
   "cell_type": "markdown",
   "source": [
    "# The Wave Equation\n",
    "\n",
    "Let's solve the (1+1)D wave equation\n",
    "\n",
    "$$\n",
    "\\partial^2_t u(t, x) = c^2 \\partial^2_x u(t, x)\n",
    "$$\n",
    "\n",
    "on $x\\in [0, L]$ subject to the boundary conditions\n",
    "\n",
    "$$\n",
    "u(t, 0) = 0 = u(t, L)\n",
    "$$\n",
    "\n",
    "and initial conditions\n",
    "\n",
    "$$\n",
    "u(0, x) = A(x), \\quad \\partial_t u(0, x) = B(x)\n",
    "$$"
   ],
   "metadata": {
    "collapsed": false,
    "pycharm": {
     "name": "#%% md\n"
    }
   }
  },
  {
   "cell_type": "markdown",
   "source": [
    "The standard approach is to discretize the partial derivatives. We introduce equidistant numerical grids for $t$ and $x$, so\n",
    "that we have\n",
    "\n",
    "$$\n",
    "t_n = n \\Delta t, \\quad x_i = i \\Delta x\n",
    "$$"
   ],
   "metadata": {
    "collapsed": false,
    "pycharm": {
     "name": "#%% md\n"
    }
   }
  },
  {
   "cell_type": "code",
   "execution_count": 145,
   "outputs": [],
   "source": [
    "from findiff import Stencil\n",
    "from findiff.symbolics import Equation, DerivativeSymbol as D, Symbol\n",
    "import findiff.symbolics as fds\n",
    "import sympy as sp\n",
    "from sympy import IndexedBase"
   ],
   "metadata": {
    "collapsed": false,
    "pycharm": {
     "name": "#%%\n"
    }
   }
  },
  {
   "cell_type": "code",
   "execution_count": 146,
   "outputs": [],
   "source": [
    "# t-axis: 0, x-axis: 1\n",
    "c = Symbol('c', real=True)\n",
    "dt = Symbol(r'\\Delta t', real=True)\n",
    "dx = Symbol(r'\\Delta x', real=True)\n",
    "d2_dx2, syms = Stencil(offsets=[(0, 1), (0, 0), (0, -1)], partials=D(1, 2), spacings=(dt, dx), symbolic=True).as_expression(index_symbols=('n', 'i'))\n",
    "d2_dt2, syms2 = Stencil(offsets=[(1, 0), (0, 0), (-1, 0)], partials=D(0, 2), spacings=(dt, dx), symbolic=True).as_expression(index_symbols=('n', 'i'))"
   ],
   "metadata": {
    "collapsed": false,
    "pycharm": {
     "name": "#%%\n"
    }
   }
  },
  {
   "cell_type": "code",
   "execution_count": 147,
   "outputs": [],
   "source": [
    "u = IndexedBase('u')\n",
    "i, n = sp.symbols('i n')"
   ],
   "metadata": {
    "collapsed": false,
    "pycharm": {
     "name": "#%%\n"
    }
   }
  },
  {
   "cell_type": "code",
   "execution_count": 148,
   "outputs": [
    {
     "data": {
      "text/plain": "Eq(c**2*(u[n, i + 1]/\\Delta x**2 + u[n, i - 1]/\\Delta x**2 - 2*u[n, i]/\\Delta x**2), u[n + 1, i]/\\Delta t**2 + u[n - 1, i]/\\Delta t**2 - 2*u[n, i]/\\Delta t**2)",
      "text/latex": "$\\displaystyle c^{2} \\left(\\frac{{u}_{n,i + 1}}{\\Delta x^{2}} + \\frac{{u}_{n,i - 1}}{\\Delta x^{2}} - \\frac{2 {u}_{n,i}}{\\Delta x^{2}}\\right) = \\frac{{u}_{n + 1,i}}{\\Delta t^{2}} + \\frac{{u}_{n - 1,i}}{\\Delta t^{2}} - \\frac{2 {u}_{n,i}}{\\Delta t^{2}}$"
     },
     "execution_count": 148,
     "metadata": {},
     "output_type": "execute_result"
    }
   ],
   "source": [
    "eq = Equation(c**2 * d2_dx2, d2_dt2)\n",
    "eq"
   ],
   "metadata": {
    "collapsed": false,
    "pycharm": {
     "name": "#%%\n"
    }
   }
  },
  {
   "cell_type": "code",
   "execution_count": 149,
   "outputs": [
    {
     "data": {
      "text/plain": "Eq(\\Delta x**2*c**2*(u[n, i + 1]/\\Delta x**2 + u[n, i - 1]/\\Delta x**2 - 2*u[n, i]/\\Delta x**2), \\Delta x**2*(u[n + 1, i]/\\Delta t**2 + u[n - 1, i]/\\Delta t**2 - 2*u[n, i]/\\Delta t**2))",
      "text/latex": "$\\displaystyle \\Delta x^{2} c^{2} \\left(\\frac{{u}_{n,i + 1}}{\\Delta x^{2}} + \\frac{{u}_{n,i - 1}}{\\Delta x^{2}} - \\frac{2 {u}_{n,i}}{\\Delta x^{2}}\\right) = \\Delta x^{2} \\left(\\frac{{u}_{n + 1,i}}{\\Delta t^{2}} + \\frac{{u}_{n - 1,i}}{\\Delta t^{2}} - \\frac{2 {u}_{n,i}}{\\Delta t^{2}}\\right)$"
     },
     "execution_count": 149,
     "metadata": {},
     "output_type": "execute_result"
    }
   ],
   "source": [
    "_ * dx**2"
   ],
   "metadata": {
    "collapsed": false,
    "pycharm": {
     "name": "#%%\n"
    }
   }
  },
  {
   "cell_type": "code",
   "execution_count": 150,
   "outputs": [
    {
     "data": {
      "text/plain": "Eq(c**2*u[n, i + 1] + c**2*u[n, i - 1] - 2*c**2*u[n, i], \\Delta x**2*u[n + 1, i]/\\Delta t**2 + \\Delta x**2*u[n - 1, i]/\\Delta t**2 - 2*\\Delta x**2*u[n, i]/\\Delta t**2)",
      "text/latex": "$\\displaystyle c^{2} {u}_{n,i + 1} + c^{2} {u}_{n,i - 1} - 2 c^{2} {u}_{n,i} = \\frac{\\Delta x^{2} {u}_{n + 1,i}}{\\Delta t^{2}} + \\frac{\\Delta x^{2} {u}_{n - 1,i}}{\\Delta t^{2}} - \\frac{2 \\Delta x^{2} {u}_{n,i}}{\\Delta t^{2}}$"
     },
     "execution_count": 150,
     "metadata": {},
     "output_type": "execute_result"
    }
   ],
   "source": [
    "_.expand()"
   ],
   "metadata": {
    "collapsed": false,
    "pycharm": {
     "name": "#%%\n"
    }
   }
  },
  {
   "cell_type": "code",
   "execution_count": 151,
   "outputs": [
    {
     "data": {
      "text/plain": "Eq(c**2*u[n, i + 1] + c**2*u[n, i - 1] - 2*c**2*u[n, i], \\Delta x**2*(u[n + 1, i] + u[n - 1, i] - 2*u[n, i])/\\Delta t**2)",
      "text/latex": "$\\displaystyle c^{2} {u}_{n,i + 1} + c^{2} {u}_{n,i - 1} - 2 c^{2} {u}_{n,i} = \\frac{\\Delta x^{2} \\left({u}_{n + 1,i} + {u}_{n - 1,i} - 2 {u}_{n,i}\\right)}{\\Delta t^{2}}$"
     },
     "execution_count": 151,
     "metadata": {},
     "output_type": "execute_result"
    }
   ],
   "source": [
    "fds.collect(_, dx**2/dt**2)"
   ],
   "metadata": {
    "collapsed": false,
    "pycharm": {
     "name": "#%%\n"
    }
   }
  },
  {
   "cell_type": "code",
   "execution_count": 152,
   "outputs": [
    {
     "data": {
      "text/plain": "Eq((c**2*u[n, i + 1] + c**2*u[n, i - 1] - 2*c**2*u[n, i])/c**2, \\Delta x**2*(u[n + 1, i] + u[n - 1, i] - 2*u[n, i])/(\\Delta t**2*c**2))",
      "text/latex": "$\\displaystyle \\frac{c^{2} {u}_{n,i + 1} + c^{2} {u}_{n,i - 1} - 2 c^{2} {u}_{n,i}}{c^{2}} = \\frac{\\Delta x^{2} \\left({u}_{n + 1,i} + {u}_{n - 1,i} - 2 {u}_{n,i}\\right)}{\\Delta t^{2} c^{2}}$"
     },
     "execution_count": 152,
     "metadata": {},
     "output_type": "execute_result"
    }
   ],
   "source": [
    "_* c**-2"
   ],
   "metadata": {
    "collapsed": false,
    "pycharm": {
     "name": "#%%\n"
    }
   }
  },
  {
   "cell_type": "code",
   "execution_count": 153,
   "outputs": [
    {
     "data": {
      "text/plain": "Eq(u[n, i + 1] + u[n, i - 1] - 2*u[n, i], \\Delta x**2*(u[n + 1, i] + u[n - 1, i] - 2*u[n, i])/(\\Delta t**2*c**2))",
      "text/latex": "$\\displaystyle {u}_{n,i + 1} + {u}_{n,i - 1} - 2 {u}_{n,i} = \\frac{\\Delta x^{2} \\left({u}_{n + 1,i} + {u}_{n - 1,i} - 2 {u}_{n,i}\\right)}{\\Delta t^{2} c^{2}}$"
     },
     "execution_count": 153,
     "metadata": {},
     "output_type": "execute_result"
    }
   ],
   "source": [
    "_.simplify()"
   ],
   "metadata": {
    "collapsed": false,
    "pycharm": {
     "name": "#%%\n"
    }
   }
  },
  {
   "cell_type": "code",
   "execution_count": 154,
   "outputs": [],
   "source": [
    "eq = _"
   ],
   "metadata": {
    "collapsed": false,
    "pycharm": {
     "name": "#%%\n"
    }
   }
  },
  {
   "cell_type": "code",
   "execution_count": 155,
   "outputs": [
    {
     "data": {
      "text/plain": "Eq(C, \\Delta t*c/\\Delta x)",
      "text/latex": "$\\displaystyle C = \\frac{\\Delta t c}{\\Delta x}$"
     },
     "execution_count": 155,
     "metadata": {},
     "output_type": "execute_result"
    }
   ],
   "source": [
    "C = Symbol('C')\n",
    "eq_C = Equation(C, dt * c / dx)\n",
    "eq_C"
   ],
   "metadata": {
    "collapsed": false,
    "pycharm": {
     "name": "#%%\n"
    }
   }
  },
  {
   "cell_type": "code",
   "execution_count": 156,
   "outputs": [
    {
     "data": {
      "text/plain": "Eq(u[n, i + 1] + u[n, i - 1] - 2*u[n, i], (u[n + 1, i] + u[n - 1, i] - 2*u[n, i])/C**2)",
      "text/latex": "$\\displaystyle {u}_{n,i + 1} + {u}_{n,i - 1} - 2 {u}_{n,i} = \\frac{{u}_{n + 1,i} + {u}_{n - 1,i} - 2 {u}_{n,i}}{C^{2}}$"
     },
     "execution_count": 156,
     "metadata": {},
     "output_type": "execute_result"
    }
   ],
   "source": [
    "eq.subs(eq_C.solve(dx).as_subs())"
   ],
   "metadata": {
    "collapsed": false,
    "pycharm": {
     "name": "#%%\n"
    }
   }
  },
  {
   "cell_type": "code",
   "execution_count": 157,
   "outputs": [
    {
     "data": {
      "text/plain": "Eq(u[n + 1, i], C**2*u[n, i + 1] + C**2*u[n, i - 1] - 2*C**2*u[n, i] - u[n - 1, i] + 2*u[n, i])",
      "text/latex": "$\\displaystyle {u}_{n + 1,i} = C^{2} {u}_{n,i + 1} + C^{2} {u}_{n,i - 1} - 2 C^{2} {u}_{n,i} - {u}_{n - 1,i} + 2 {u}_{n,i}$"
     },
     "execution_count": 157,
     "metadata": {},
     "output_type": "execute_result"
    }
   ],
   "source": [
    "_.solve(u[n+1, i])"
   ],
   "metadata": {
    "collapsed": false,
    "pycharm": {
     "name": "#%%\n"
    }
   }
  },
  {
   "cell_type": "code",
   "execution_count": 158,
   "outputs": [
    {
     "data": {
      "text/plain": "Eq(u[n + 1, i], C**2*(u[n, i + 1] + u[n, i - 1] - 2*u[n, i]) - u[n - 1, i] + 2*u[n, i])",
      "text/latex": "$\\displaystyle {u}_{n + 1,i} = C^{2} \\left({u}_{n,i + 1} + {u}_{n,i - 1} - 2 {u}_{n,i}\\right) - {u}_{n - 1,i} + 2 {u}_{n,i}$"
     },
     "execution_count": 158,
     "metadata": {},
     "output_type": "execute_result"
    }
   ],
   "source": [
    "eq = fds.collect(_, C**2)\n",
    "eq"
   ],
   "metadata": {
    "collapsed": false,
    "pycharm": {
     "name": "#%%\n"
    }
   }
  },
  {
   "cell_type": "code",
   "execution_count": 159,
   "outputs": [
    {
     "data": {
      "text/plain": "Eq(u[1, i], C**2*(u[0, i + 1] + u[0, i - 1] - 2*u[0, i]) - u[-1, i] + 2*u[0, i])",
      "text/latex": "$\\displaystyle {u}_{1,i} = C^{2} \\left({u}_{0,i + 1} + {u}_{0,i - 1} - 2 {u}_{0,i}\\right) - {u}_{-1,i} + 2 {u}_{0,i}$"
     },
     "execution_count": 159,
     "metadata": {},
     "output_type": "execute_result"
    }
   ],
   "source": [
    "eq.subs(n, 0)"
   ],
   "metadata": {
    "collapsed": false,
    "pycharm": {
     "name": "#%%\n"
    }
   }
  },
  {
   "cell_type": "markdown",
   "source": [
    "Here we have a term $u_{-1, i}$ which is outside of the $t$-grid. Fortunately, we can\n",
    "replace this by making use of the initial condition $\\partial_t u(0, x) = V(x)$:"
   ],
   "metadata": {
    "collapsed": false,
    "pycharm": {
     "name": "#%% md\n"
    }
   }
  },
  {
   "cell_type": "code",
   "execution_count": 160,
   "outputs": [
    {
     "data": {
      "text/plain": "u[n + 1, i]/(2*\\Delta t) - u[n - 1, i]/(2*\\Delta t)",
      "text/latex": "$\\displaystyle \\frac{{u}_{n + 1,i}}{2 \\Delta t} - \\frac{{u}_{n - 1,i}}{2 \\Delta t}$"
     },
     "execution_count": 160,
     "metadata": {},
     "output_type": "execute_result"
    }
   ],
   "source": [
    "d_dt = Stencil(offsets=[(-1, 0), (0, 0), (1, 0)], partials=D(0), spacings=[dt, dx], symbolic=True)\n",
    "d_dt, syms = d_dt.as_expression(index_symbols=('n', 'i'))\n",
    "d_dt"
   ],
   "metadata": {
    "collapsed": false,
    "pycharm": {
     "name": "#%%\n"
    }
   }
  },
  {
   "cell_type": "code",
   "execution_count": 161,
   "outputs": [
    {
     "data": {
      "text/plain": "Eq(-u[-1, i]/(2*\\Delta t) + u[1, i]/(2*\\Delta t), B[i])",
      "text/latex": "$\\displaystyle - \\frac{{u}_{-1,i}}{2 \\Delta t} + \\frac{{u}_{1,i}}{2 \\Delta t} = {B}_{i}$"
     },
     "execution_count": 161,
     "metadata": {},
     "output_type": "execute_result"
    }
   ],
   "source": [
    "B = IndexedBase('B')\n",
    "eq_ini = Equation(d_dt, B[i]).subs(n, 0)\n",
    "eq_ini"
   ],
   "metadata": {
    "collapsed": false,
    "pycharm": {
     "name": "#%%\n"
    }
   }
  },
  {
   "cell_type": "code",
   "execution_count": 162,
   "outputs": [
    {
     "data": {
      "text/plain": "Eq(u[-1, i], -2*\\Delta t*B[i] + u[1, i])",
      "text/latex": "$\\displaystyle {u}_{-1,i} = - 2 \\Delta t {B}_{i} + {u}_{1,i}$"
     },
     "execution_count": 162,
     "metadata": {},
     "output_type": "execute_result"
    }
   ],
   "source": [
    "eq_ini = eq_ini.solve(u[-1, i])\n",
    "eq_ini"
   ],
   "metadata": {
    "collapsed": false,
    "pycharm": {
     "name": "#%%\n"
    }
   }
  },
  {
   "cell_type": "code",
   "execution_count": 163,
   "outputs": [
    {
     "data": {
      "text/plain": "Eq(u[1, i], C**2*(u[0, i + 1] + u[0, i - 1] - 2*u[0, i]) + 2*\\Delta t*B[i] + 2*u[0, i] - u[1, i])",
      "text/latex": "$\\displaystyle {u}_{1,i} = C^{2} \\left({u}_{0,i + 1} + {u}_{0,i - 1} - 2 {u}_{0,i}\\right) + 2 \\Delta t {B}_{i} + 2 {u}_{0,i} - {u}_{1,i}$"
     },
     "execution_count": 163,
     "metadata": {},
     "output_type": "execute_result"
    }
   ],
   "source": [
    "eq.subs(n, 0).subs(eq_ini.as_subs())"
   ],
   "metadata": {
    "collapsed": false,
    "pycharm": {
     "name": "#%%\n"
    }
   }
  },
  {
   "cell_type": "code",
   "execution_count": 164,
   "outputs": [
    {
     "data": {
      "text/plain": "Eq(u[1, i], C**2*(u[0, i + 1] + u[0, i - 1] - 2*u[0, i]) + 2*\\Delta t*B[i] + 2*u[0, i] - u[1, i])",
      "text/latex": "$\\displaystyle {u}_{1,i} = C^{2} \\left({u}_{0,i + 1} + {u}_{0,i - 1} - 2 {u}_{0,i}\\right) + 2 \\Delta t {B}_{i} + 2 {u}_{0,i} - {u}_{1,i}$"
     },
     "execution_count": 164,
     "metadata": {},
     "output_type": "execute_result"
    }
   ],
   "source": [
    "_.simplify()"
   ],
   "metadata": {
    "collapsed": false,
    "pycharm": {
     "name": "#%%\n"
    }
   }
  },
  {
   "cell_type": "code",
   "execution_count": 84,
   "outputs": [
    {
     "data": {
      "text/plain": "Eq(u[1, i], C**2*u[0, i + 1]/2 + C**2*u[0, i - 1]/2 - C**2*u[0, i] + \\Delta t*V[i] + u[0, i])",
      "text/latex": "$\\displaystyle {u}_{1,i} = \\frac{C^{2} {u}_{0,i + 1}}{2} + \\frac{C^{2} {u}_{0,i - 1}}{2} - C^{2} {u}_{0,i} + \\Delta t {V}_{i} + {u}_{0,i}$"
     },
     "execution_count": 84,
     "metadata": {},
     "output_type": "execute_result"
    }
   ],
   "source": [
    "_.solve(u[1, i])"
   ],
   "metadata": {
    "collapsed": false,
    "pycharm": {
     "name": "#%%\n"
    }
   }
  },
  {
   "cell_type": "code",
   "execution_count": 85,
   "outputs": [
    {
     "data": {
      "text/plain": "Eq(u[1, i], C**2*(u[0, i + 1]/2 + u[0, i - 1]/2 - u[0, i]) + \\Delta t*V[i] + u[0, i])",
      "text/latex": "$\\displaystyle {u}_{1,i} = C^{2} \\left(\\frac{{u}_{0,i + 1}}{2} + \\frac{{u}_{0,i - 1}}{2} - {u}_{0,i}\\right) + \\Delta t {V}_{i} + {u}_{0,i}$"
     },
     "execution_count": 85,
     "metadata": {},
     "output_type": "execute_result"
    }
   ],
   "source": [
    "fds.collect(_, C**2)"
   ],
   "metadata": {
    "collapsed": false,
    "pycharm": {
     "name": "#%%\n"
    }
   }
  },
  {
   "cell_type": "markdown",
   "source": [],
   "metadata": {
    "collapsed": false,
    "pycharm": {
     "name": "#%% md\n"
    }
   }
  },
  {
   "cell_type": "code",
   "execution_count": 141,
   "outputs": [],
   "source": [
    "import numpy as np\n",
    "\n",
    "L = 1\n",
    "nt, nx = 1000, 30\n",
    "x = np.linspace(0, L, nx)\n",
    "t = np.linspace(0, 1, nt)\n",
    "dx = x[1] - x[0]\n",
    "dt = t[1] - t[0]\n",
    "c = 1\n",
    "C = c * dt / dx\n",
    "\n",
    "u = np.zeros((nt, nx), dtype=float) # implicitly satisfies boundary conditions\n",
    "\n",
    "# Initial conditions\n",
    "A = x * (L-x)\n",
    "B = np.zeros_like(x)\n",
    "\n",
    "u[0, :] = A\n",
    "\n",
    "# First step, implementing second initial condition\n",
    "u[1, 1:-1] = C**2 /2 * (u[0, 2:] + u[0, :-2] - 2*u[0, 1:-1]) + dt * B[1:-1] + A[1:-1]\n",
    "\n",
    "# Now all other time steps\n",
    "for n in range(1, nt-1):\n",
    "    u[n+1, 1:-1] = C**2 * (u[n, 2:] + u[n, :-2] - 2*u[n, 1:-1]) - u[n-1, 1:-1] + 2*u[n, 1:-1]\n"
   ],
   "metadata": {
    "collapsed": false,
    "pycharm": {
     "name": "#%%\n"
    }
   }
  },
  {
   "cell_type": "code",
   "execution_count": 165,
   "outputs": [
    {
     "data": {
      "text/plain": "Eq(c**2*(u[n, i + 1]/\\Delta x**2 + u[n, i - 1]/\\Delta x**2 - 2*u[n, i]/\\Delta x**2), u[n + 1, i]/\\Delta t**2 + u[n - 1, i]/\\Delta t**2 - 2*u[n, i]/\\Delta t**2)",
      "text/latex": "$\\displaystyle c^{2} \\left(\\frac{{u}_{n,i + 1}}{\\Delta x^{2}} + \\frac{{u}_{n,i - 1}}{\\Delta x^{2}} - \\frac{2 {u}_{n,i}}{\\Delta x^{2}}\\right) = \\frac{{u}_{n + 1,i}}{\\Delta t^{2}} + \\frac{{u}_{n - 1,i}}{\\Delta t^{2}} - \\frac{2 {u}_{n,i}}{\\Delta t^{2}}$"
     },
     "execution_count": 165,
     "metadata": {},
     "output_type": "execute_result"
    }
   ],
   "source": [
    "# t-axis: 0, x-axis: 1\n",
    "c = Symbol('c', real=True)\n",
    "dt = Symbol(r'\\Delta t', real=True)\n",
    "dx = Symbol(r'\\Delta x', real=True)\n",
    "d2_dx2, syms = Stencil(offsets=[(0, 1), (0, 0), (0, -1)], partials=D(1, 2), spacings=(dt, dx),\n",
    "                       symbolic=True).as_expression(index_symbols=('n', 'i'))\n",
    "d2_dt2, syms2 = Stencil(offsets=[(1, 0), (0, 0), (-1, 0)], partials=D(0, 2), spacings=(dt, dx),\n",
    "                        symbolic=True).as_expression(index_symbols=('n', 'i'))\n",
    "u = IndexedBase('u')\n",
    "i, n = sp.symbols('i n')\n",
    "eq = Equation(c ** 2 * d2_dx2, d2_dt2)\n",
    "eq"
   ],
   "metadata": {
    "collapsed": false,
    "pycharm": {
     "name": "#%%\n"
    }
   }
  },
  {
   "cell_type": "markdown",
   "source": [
    "Now we are using Neumann boundary conditions"
   ],
   "metadata": {
    "collapsed": false,
    "pycharm": {
     "name": "#%% md\n"
    }
   }
  },
  {
   "cell_type": "code",
   "execution_count": 167,
   "outputs": [
    {
     "data": {
      "text/plain": "-3*u[n, 0]/(2*\\Delta x) + 2*u[n, 1]/\\Delta x - u[n, 2]/(2*\\Delta x)",
      "text/latex": "$\\displaystyle - \\frac{3 {u}_{n,0}}{2 \\Delta x} + \\frac{2 {u}_{n,1}}{\\Delta x} - \\frac{{u}_{n,2}}{2 \\Delta x}$"
     },
     "execution_count": 167,
     "metadata": {},
     "output_type": "execute_result"
    }
   ],
   "source": [
    "stc = Stencil(offsets=[(0, 0), (0, 1), (0, 2)], partials=D(1), spacings=(dt, dx), symbolic=True)\n",
    "d_dx, syms = stc.as_expression(index_symbols=('n', 'i'))\n",
    "d_dx.subs(i, 0)"
   ],
   "metadata": {
    "collapsed": false,
    "pycharm": {
     "name": "#%%\n"
    }
   }
  },
  {
   "cell_type": "code",
   "execution_count": null,
   "outputs": [],
   "source": [],
   "metadata": {
    "collapsed": false,
    "pycharm": {
     "name": "#%%\n"
    }
   }
  }
 ],
 "metadata": {
  "kernelspec": {
   "display_name": "Python 3",
   "language": "python",
   "name": "python3"
  },
  "language_info": {
   "codemirror_mode": {
    "name": "ipython",
    "version": 2
   },
   "file_extension": ".py",
   "mimetype": "text/x-python",
   "name": "python",
   "nbconvert_exporter": "python",
   "pygments_lexer": "ipython2",
   "version": "2.7.6"
  }
 },
 "nbformat": 4,
 "nbformat_minor": 0
}