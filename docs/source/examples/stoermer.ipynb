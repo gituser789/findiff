{
 "cells": [
  {
   "cell_type": "markdown",
   "source": [
    "# Störmer's Method\n",
    "\n",
    "As a demonstration how *findiff* can be used to symbolically create iteration\n",
    "algorithms, we will apply it to the simple ordinary differential\n",
    "equation of a harmonic oscillator:\n",
    "\n",
    "$$\n",
    "u'' + \\omega^2 u = 0\n",
    "$$\n",
    "\n",
    "with the initial conditions $u(0) = a$ and $u'(0) = 0$."
   ],
   "metadata": {
    "collapsed": false,
    "pycharm": {
     "name": "#%% md\n"
    }
   }
  },
  {
   "cell_type": "markdown",
   "source": [
    "If you want to follow along, install *findiff* and start up iPython or a Jupyter notebook.\n",
    "We will need the `Stencil` class and some features for symbolic operations contained in the\n",
    "`findiff.symbolics` subpackage."
   ],
   "metadata": {
    "collapsed": false,
    "pycharm": {
     "name": "#%% md\n"
    }
   }
  },
  {
   "cell_type": "code",
   "execution_count": 48,
   "outputs": [],
   "source": [
    "from findiff import Stencil\n",
    "from findiff.symbolics import Equation, Symbol"
   ],
   "metadata": {
    "collapsed": false,
    "pycharm": {
     "name": "#%%\n"
    }
   }
  },
  {
   "cell_type": "markdown",
   "source": [
    "All symbolic features of *findiff* are based on *sympy*. In fact,\n",
    "`Symbol` is identical with the *sympy* version of `Symbol`. It is just included so the users\n",
    "don't have to import if from *sympy* manually. The `Equation` class is a subclass of *sympy*'s\n",
    "`Eq` class, but it has several additional features convenient for the present use case\n",
    "compared to the parent class."
   ],
   "metadata": {
    "collapsed": false,
    "pycharm": {
     "name": "#%% md\n"
    }
   }
  },
  {
   "cell_type": "markdown",
   "source": [
    "Next, we will discretize the second derivative $u''$ using a central scheme."
   ],
   "metadata": {
    "collapsed": false,
    "pycharm": {
     "name": "#%% md\n"
    }
   }
  },
  {
   "cell_type": "code",
   "execution_count": 49,
   "outputs": [],
   "source": [
    "stencil = Stencil(\n",
    "    offsets=[-1, 0, 1],\n",
    "    partials={(2,): 1},\n",
    "    spacings=[r'\\Delta t'],\n",
    "    symbolic=True\n",
    ")"
   ],
   "metadata": {
    "collapsed": false,
    "pycharm": {
     "name": "#%%\n"
    }
   }
  },
  {
   "cell_type": "markdown",
   "source": [
    "Now we can turn the stencil into a symbolic expression. By default, the name of the grid function is $u$,\n",
    "but this can be adjusted."
   ],
   "metadata": {
    "collapsed": false,
    "pycharm": {
     "name": "#%% md\n"
    }
   }
  },
  {
   "cell_type": "code",
   "execution_count": 50,
   "outputs": [],
   "source": [
    "expr, symbols = stencil.as_expression(index_symbols='n')"
   ],
   "metadata": {
    "collapsed": false,
    "pycharm": {
     "name": "#%%\n"
    }
   }
  },
  {
   "cell_type": "markdown",
   "source": [
    "This returns the expression and also a dictionary with the symbols, so that we can use them\n",
    "in our code."
   ],
   "metadata": {
    "collapsed": false,
    "pycharm": {
     "name": "#%% md\n"
    }
   }
  },
  {
   "cell_type": "code",
   "execution_count": 51,
   "outputs": [
    {
     "data": {
      "text/plain": "u[n + 1]/\\Delta t**2 + u[n - 1]/\\Delta t**2 - 2*u[n]/\\Delta t**2",
      "text/latex": "$\\displaystyle \\frac{{u}_{n + 1}}{\\Delta t^{2}} + \\frac{{u}_{n - 1}}{\\Delta t^{2}} - \\frac{2 {u}_{n}}{\\Delta t^{2}}$"
     },
     "execution_count": 51,
     "metadata": {},
     "output_type": "execute_result"
    }
   ],
   "source": [
    "expr"
   ],
   "metadata": {
    "collapsed": false,
    "pycharm": {
     "name": "#%%\n"
    }
   }
  },
  {
   "cell_type": "code",
   "execution_count": 52,
   "outputs": [
    {
     "data": {
      "text/plain": "{'indices': [n], 'function': u, 'spacings': [\\Delta t]}"
     },
     "execution_count": 52,
     "metadata": {},
     "output_type": "execute_result"
    }
   ],
   "source": [
    "symbols"
   ],
   "metadata": {
    "collapsed": false,
    "pycharm": {
     "name": "#%%\n"
    }
   }
  },
  {
   "cell_type": "code",
   "execution_count": 53,
   "outputs": [],
   "source": [
    "n, = symbols['indices']\n",
    "u = symbols['function']\n",
    "dt, = symbols['spacings']"
   ],
   "metadata": {
    "collapsed": false,
    "pycharm": {
     "name": "#%%\n"
    }
   }
  },
  {
   "cell_type": "markdown",
   "source": [
    "Now we define our discretized equation:"
   ],
   "metadata": {
    "collapsed": false,
    "pycharm": {
     "name": "#%% md\n"
    }
   }
  },
  {
   "cell_type": "code",
   "execution_count": 54,
   "outputs": [
    {
     "data": {
      "text/plain": "Eq(\\omega**2*u[n] + u[n + 1]/\\Delta t**2 + u[n - 1]/\\Delta t**2 - 2*u[n]/\\Delta t**2, 0)",
      "text/latex": "$\\displaystyle \\omega^{2} {u}_{n} + \\frac{{u}_{n + 1}}{\\Delta t^{2}} + \\frac{{u}_{n - 1}}{\\Delta t^{2}} - \\frac{2 {u}_{n}}{\\Delta t^{2}} = 0$"
     },
     "execution_count": 54,
     "metadata": {},
     "output_type": "execute_result"
    }
   ],
   "source": [
    "w = Symbol(r'\\omega')\n",
    "eq = Equation(expr + w**2 * u[n], 0)\n",
    "eq"
   ],
   "metadata": {
    "collapsed": false,
    "pycharm": {
     "name": "#%%\n"
    }
   }
  },
  {
   "cell_type": "markdown",
   "source": [
    "and solve it for $u_{n+1}$:"
   ],
   "metadata": {
    "collapsed": false,
    "pycharm": {
     "name": "#%% md\n"
    }
   }
  },
  {
   "cell_type": "code",
   "execution_count": 55,
   "outputs": [
    {
     "data": {
      "text/plain": "Eq(u[n + 1], -\\Delta t**2*\\omega**2*u[n] - u[n - 1] + 2*u[n])",
      "text/latex": "$\\displaystyle {u}_{n + 1} = - \\Delta t^{2} \\omega^{2} {u}_{n} - {u}_{n - 1} + 2 {u}_{n}$"
     },
     "execution_count": 55,
     "metadata": {},
     "output_type": "execute_result"
    }
   ],
   "source": [
    "eq.solve(u[n+1])"
   ],
   "metadata": {
    "collapsed": false,
    "pycharm": {
     "name": "#%%\n"
    }
   }
  },
  {
   "cell_type": "code",
   "execution_count": 56,
   "outputs": [
    {
     "data": {
      "text/plain": "Eq(u[n + 1], (-\\Delta t**2*\\omega**2 + 2)*u[n] - u[n - 1])",
      "text/latex": "$\\displaystyle {u}_{n + 1} = \\left(- \\Delta t^{2} \\omega^{2} + 2\\right) {u}_{n} - {u}_{n - 1}$"
     },
     "execution_count": 56,
     "metadata": {},
     "output_type": "execute_result"
    }
   ],
   "source": [
    "import findiff.symbolics as sym\n",
    "sym.collect(_, u[n])"
   ],
   "metadata": {
    "collapsed": false,
    "pycharm": {
     "name": "#%%\n"
    }
   }
  },
  {
   "cell_type": "markdown",
   "source": [
    "Now we have $u_{n+1}$ in terms of the previous grid points. So we have an explicit iteration scheme.\n",
    "This scheme is sometimes called Störmer's method."
   ],
   "metadata": {
    "collapsed": false,
    "pycharm": {
     "name": "#%% md\n"
    }
   }
  },
  {
   "cell_type": "code",
   "execution_count": 57,
   "outputs": [],
   "source": [
    "stoermer = _"
   ],
   "metadata": {
    "collapsed": false,
    "pycharm": {
     "name": "#%%\n"
    }
   }
  },
  {
   "cell_type": "markdown",
   "source": [
    "But there is still one issue to solve. Look at what happens for $n=0$:"
   ],
   "metadata": {
    "collapsed": false,
    "pycharm": {
     "name": "#%% md\n"
    }
   }
  },
  {
   "cell_type": "code",
   "execution_count": 58,
   "outputs": [
    {
     "data": {
      "text/plain": "Eq(u[1], (-\\Delta t**2*\\omega**2 + 2)*u[0] - u[-1])",
      "text/latex": "$\\displaystyle {u}_{1} = \\left(- \\Delta t^{2} \\omega^{2} + 2\\right) {u}_{0} - {u}_{-1}$"
     },
     "execution_count": 58,
     "metadata": {},
     "output_type": "execute_result"
    }
   ],
   "source": [
    "stoermer.subs({n: 0})"
   ],
   "metadata": {
    "collapsed": false,
    "pycharm": {
     "name": "#%%\n"
    }
   }
  },
  {
   "cell_type": "markdown",
   "source": [
    "To determine $u_1$ we would need $u_{-1}$, which does not even exist. But fortunately,\n",
    "we can get rid of it using the initial condition $u'(0)=0$. Discretize that condition:"
   ],
   "metadata": {
    "collapsed": false,
    "pycharm": {
     "name": "#%% md\n"
    }
   }
  },
  {
   "cell_type": "code",
   "execution_count": 59,
   "outputs": [
    {
     "data": {
      "text/plain": "Eq(-u[-1]/(2*\\Delta t) + u[1]/(2*\\Delta t), 0)",
      "text/latex": "$\\displaystyle - \\frac{{u}_{-1}}{2 \\Delta t} + \\frac{{u}_{1}}{2 \\Delta t} = 0$"
     },
     "execution_count": 59,
     "metadata": {},
     "output_type": "execute_result"
    }
   ],
   "source": [
    "stencil = Stencil(offsets=[-1, 1], partials={(1,):1}, spacings=[dx], symbolic=True)\n",
    "expr, symbols = stencil.as_expression(index_symbols=['n'])\n",
    "eq = Equation(expr.subs(n, 0), 0)\n",
    "eq"
   ],
   "metadata": {
    "collapsed": false,
    "pycharm": {
     "name": "#%%\n"
    }
   }
  },
  {
   "cell_type": "markdown",
   "source": [
    "Solve that for $u_{-1}$"
   ],
   "metadata": {
    "collapsed": false,
    "pycharm": {
     "name": "#%% md\n"
    }
   }
  },
  {
   "cell_type": "code",
   "execution_count": 60,
   "outputs": [
    {
     "data": {
      "text/plain": "Eq(u[-1], u[1])",
      "text/latex": "$\\displaystyle {u}_{-1} = {u}_{1}$"
     },
     "execution_count": 60,
     "metadata": {},
     "output_type": "execute_result"
    }
   ],
   "source": [
    "eq = eq.solve(u[-1])\n",
    "eq"
   ],
   "metadata": {
    "collapsed": false,
    "pycharm": {
     "name": "#%%\n"
    }
   }
  },
  {
   "cell_type": "markdown",
   "source": [
    "And finally substitute that in our expression for the first step:"
   ],
   "metadata": {
    "collapsed": false,
    "pycharm": {
     "name": "#%% md\n"
    }
   }
  },
  {
   "cell_type": "code",
   "execution_count": 61,
   "outputs": [
    {
     "data": {
      "text/plain": "Eq(u[1], (-\\Delta t**2*\\omega**2 + 2)*u[0] - u[1])",
      "text/latex": "$\\displaystyle {u}_{1} = \\left(- \\Delta t^{2} \\omega^{2} + 2\\right) {u}_{0} - {u}_{1}$"
     },
     "execution_count": 61,
     "metadata": {},
     "output_type": "execute_result"
    }
   ],
   "source": [
    "stoermer.subs({n: 0}).subs(eq.as_subs())"
   ],
   "metadata": {
    "collapsed": false,
    "pycharm": {
     "name": "#%%\n"
    }
   }
  },
  {
   "cell_type": "code",
   "execution_count": 62,
   "outputs": [
    {
     "data": {
      "text/plain": "Eq(u[1], (-\\Delta t**2*\\omega**2 + 2)*u[0]/2)",
      "text/latex": "$\\displaystyle {u}_{1} = \\frac{\\left(- \\Delta t^{2} \\omega^{2} + 2\\right) {u}_{0}}{2}$"
     },
     "execution_count": 62,
     "metadata": {},
     "output_type": "execute_result"
    }
   ],
   "source": [
    "_.solve(u[1])"
   ],
   "metadata": {
    "collapsed": false,
    "pycharm": {
     "name": "#%%\n"
    }
   }
  },
  {
   "cell_type": "markdown",
   "source": [
    "Now we have all we need:\n",
    "\n",
    "- Having $u_0$ (the initial condition!), obtain the first step $u_1$\n",
    "- For $n>1$, determine $u_{n+1}$ from the iteration scheme"
   ],
   "metadata": {
    "collapsed": false,
    "pycharm": {
     "name": "#%% md\n"
    }
   }
  },
  {
   "cell_type": "code",
   "execution_count": 63,
   "outputs": [
    {
     "data": {
      "text/plain": "Eq(u[n + 1], (-\\Delta t**2*\\omega**2 + 2)*u[n] - u[n - 1])",
      "text/latex": "$\\displaystyle {u}_{n + 1} = \\left(- \\Delta t^{2} \\omega^{2} + 2\\right) {u}_{n} - {u}_{n - 1}$"
     },
     "execution_count": 63,
     "metadata": {},
     "output_type": "execute_result"
    }
   ],
   "source": [
    "stoermer"
   ],
   "metadata": {
    "collapsed": false,
    "pycharm": {
     "name": "#%%\n"
    }
   }
  },
  {
   "cell_type": "markdown",
   "source": [
    "Iteration schemes like this can be stable or unstable depending on the\n",
    "value of the parameters. We can analyze this by inserting the trial\n",
    "solution\n",
    "\n",
    "$$\n",
    "u_n = e^{i\\tilde\\omega t_n} =e^{i\\tilde\\omega n \\Delta t}\n",
    "$$\n",
    "\n",
    "where $\\tilde\\omega$ is a free parameter."
   ],
   "metadata": {
    "collapsed": false,
    "pycharm": {
     "name": "#%% md\n"
    }
   }
  },
  {
   "cell_type": "code",
   "execution_count": 126,
   "outputs": [
    {
     "data": {
      "text/plain": "Eq(exp(I*\\Delta t*\\tilde\\omega*(n + 1)), (-\\Delta t**2*\\omega**2 + 2)*exp(I*\\Delta t*\\tilde\\omega*n) - exp(I*\\Delta t*\\tilde\\omega*(n - 1)))",
      "text/latex": "$\\displaystyle e^{i \\Delta t \\tilde\\omega \\left(n + 1\\right)} = \\left(- \\Delta t^{2} \\omega^{2} + 2\\right) e^{i \\Delta t \\tilde\\omega n} - e^{i \\Delta t \\tilde\\omega \\left(n - 1\\right)}$"
     },
     "execution_count": 126,
     "metadata": {},
     "output_type": "execute_result"
    }
   ],
   "source": [
    "from sympy import exp, I\n",
    "import sympy as sp\n",
    "\n",
    "w_ = sp.Symbol(r'\\tilde\\omega', real=True)\n",
    "\n",
    "stoermer.subs({u[n]: exp(I * w_ * n * dt),\n",
    "               u[n+1]: exp(I * w_ * (n+1) * dt),\n",
    "               u[n-1]: exp(I * w_ * (n-1) * dt)\n",
    "               })"
   ],
   "metadata": {
    "collapsed": false,
    "pycharm": {
     "name": "#%%\n"
    }
   }
  },
  {
   "cell_type": "code",
   "execution_count": 127,
   "outputs": [
    {
     "data": {
      "text/plain": "Eq(exp(-I*\\Delta t*\\tilde\\omega*n)*exp(I*\\Delta t*\\tilde\\omega*(n + 1)), ((-\\Delta t**2*\\omega**2 + 2)*exp(I*\\Delta t*\\tilde\\omega*n) - exp(I*\\Delta t*\\tilde\\omega*(n - 1)))*exp(-I*\\Delta t*\\tilde\\omega*n))",
      "text/latex": "$\\displaystyle e^{- i \\Delta t \\tilde\\omega n} e^{i \\Delta t \\tilde\\omega \\left(n + 1\\right)} = \\left(\\left(- \\Delta t^{2} \\omega^{2} + 2\\right) e^{i \\Delta t \\tilde\\omega n} - e^{i \\Delta t \\tilde\\omega \\left(n - 1\\right)}\\right) e^{- i \\Delta t \\tilde\\omega n}$"
     },
     "execution_count": 127,
     "metadata": {},
     "output_type": "execute_result"
    }
   ],
   "source": [
    "_ / exp(I * w_ * n * dt)"
   ],
   "metadata": {
    "collapsed": false,
    "pycharm": {
     "name": "#%%\n"
    }
   }
  },
  {
   "cell_type": "code",
   "execution_count": 128,
   "outputs": [
    {
     "data": {
      "text/plain": "Eq(exp(I*\\Delta t*\\tilde\\omega), -\\Delta t**2*\\omega**2 + 2 - exp(-I*\\Delta t*\\tilde\\omega))",
      "text/latex": "$\\displaystyle e^{i \\Delta t \\tilde\\omega} = - \\Delta t^{2} \\omega^{2} + 2 - e^{- i \\Delta t \\tilde\\omega}$"
     },
     "execution_count": 128,
     "metadata": {},
     "output_type": "execute_result"
    }
   ],
   "source": [
    "_.simplify()"
   ],
   "metadata": {
    "collapsed": false,
    "pycharm": {
     "name": "#%%\n"
    }
   }
  },
  {
   "cell_type": "code",
   "execution_count": 129,
   "outputs": [
    {
     "data": {
      "text/plain": "Eq(exp(I*\\Delta t*\\tilde\\omega) + exp(-I*\\Delta t*\\tilde\\omega), -\\Delta t**2*\\omega**2 + 2)",
      "text/latex": "$\\displaystyle e^{i \\Delta t \\tilde\\omega} + e^{- i \\Delta t \\tilde\\omega} = - \\Delta t^{2} \\omega^{2} + 2$"
     },
     "execution_count": 129,
     "metadata": {},
     "output_type": "execute_result"
    }
   ],
   "source": [
    "_ + exp(-I*w_*dt)"
   ],
   "metadata": {
    "collapsed": false,
    "pycharm": {
     "name": "#%%\n"
    }
   }
  },
  {
   "cell_type": "code",
   "execution_count": 130,
   "outputs": [
    {
     "data": {
      "text/plain": "Eq(exp(I*\\Delta t*\\tilde\\omega)/2 + exp(-I*\\Delta t*\\tilde\\omega)/2, -\\Delta t**2*\\omega**2/2 + 1)",
      "text/latex": "$\\displaystyle \\frac{e^{i \\Delta t \\tilde\\omega}}{2} + \\frac{e^{- i \\Delta t \\tilde\\omega}}{2} = - \\frac{\\Delta t^{2} \\omega^{2}}{2} + 1$"
     },
     "execution_count": 130,
     "metadata": {},
     "output_type": "execute_result"
    }
   ],
   "source": [
    "_ / 2"
   ],
   "metadata": {
    "collapsed": false,
    "pycharm": {
     "name": "#%%\n"
    }
   }
  },
  {
   "cell_type": "code",
   "execution_count": 131,
   "outputs": [
    {
     "data": {
      "text/plain": "Eq(cos(\\Delta t*\\tilde\\omega), -\\Delta t**2*\\omega**2/2 + 1)",
      "text/latex": "$\\displaystyle \\cos{\\left(\\Delta t \\tilde\\omega \\right)} = - \\frac{\\Delta t^{2} \\omega^{2}}{2} + 1$"
     },
     "execution_count": 131,
     "metadata": {},
     "output_type": "execute_result"
    }
   ],
   "source": [
    "_.replace(_.lhs, sp.cos(w_*dt))"
   ],
   "metadata": {
    "collapsed": false,
    "pycharm": {
     "name": "#%%\n"
    }
   }
  },
  {
   "cell_type": "markdown",
   "source": [
    "This becomes unstable if the right hand side has an absolute value greater than one. This can\n",
    "only happen, if"
   ],
   "metadata": {
    "collapsed": false,
    "pycharm": {
     "name": "#%% md\n"
    }
   }
  },
  {
   "cell_type": "code",
   "execution_count": 132,
   "outputs": [
    {
     "data": {
      "text/plain": "-\\Delta t**2*\\omega**2/2 + 1 < -1",
      "text/latex": "$\\displaystyle - \\frac{\\Delta t^{2} \\omega^{2}}{2} + 1 < -1$"
     },
     "execution_count": 132,
     "metadata": {},
     "output_type": "execute_result"
    }
   ],
   "source": [
    "_.rhs < -1"
   ],
   "metadata": {
    "collapsed": false,
    "pycharm": {
     "name": "#%%\n"
    }
   }
  },
  {
   "cell_type": "code",
   "execution_count": 133,
   "outputs": [
    {
     "data": {
      "text/plain": "-\\Delta t**2*\\omega**2/2 < -2",
      "text/latex": "$\\displaystyle - \\frac{\\Delta t^{2} \\omega^{2}}{2} < -2$"
     },
     "execution_count": 133,
     "metadata": {},
     "output_type": "execute_result"
    }
   ],
   "source": [
    "_.lhs - 1 < _.rhs - 1"
   ],
   "metadata": {
    "collapsed": false,
    "pycharm": {
     "name": "#%%\n"
    }
   }
  },
  {
   "cell_type": "code",
   "execution_count": 134,
   "outputs": [
    {
     "data": {
      "text/plain": "-\\Delta t**2*\\omega**2 < -4",
      "text/latex": "$\\displaystyle - \\Delta t^{2} \\omega^{2} < -4$"
     },
     "execution_count": 134,
     "metadata": {},
     "output_type": "execute_result"
    }
   ],
   "source": [
    "_.lhs * 2 < _.rhs * 2"
   ],
   "metadata": {
    "collapsed": false,
    "pycharm": {
     "name": "#%%\n"
    }
   }
  },
  {
   "cell_type": "code",
   "execution_count": 135,
   "outputs": [
    {
     "data": {
      "text/plain": "\\Delta t**2*\\omega**2/4 > 1",
      "text/latex": "$\\displaystyle \\frac{\\Delta t^{2} \\omega^{2}}{4} > 1$"
     },
     "execution_count": 135,
     "metadata": {},
     "output_type": "execute_result"
    }
   ],
   "source": [
    "_.lhs / (-4) > _.rhs / (-4)"
   ],
   "metadata": {
    "collapsed": false,
    "pycharm": {
     "name": "#%%\n"
    }
   }
  },
  {
   "cell_type": "code",
   "execution_count": 136,
   "outputs": [
    {
     "data": {
      "text/plain": "\\Delta t*\\omega/2 > 1",
      "text/latex": "$\\displaystyle \\frac{\\Delta t \\omega}{2} > 1$"
     },
     "execution_count": 136,
     "metadata": {},
     "output_type": "execute_result"
    }
   ],
   "source": [
    "dt * w / 2 > 1"
   ],
   "metadata": {
    "collapsed": false,
    "pycharm": {
     "name": "#%%\n"
    }
   }
  },
  {
   "cell_type": "markdown",
   "source": [
    "So when the time step gets greater than a limit indicated by this\n",
    "inequality, the iteration scheme becomes unstable. Below this limit,\n",
    "the scheme is stable (though not necessary very accurate)."
   ],
   "metadata": {
    "collapsed": false,
    "pycharm": {
     "name": "#%% md\n"
    }
   }
  }
 ],
 "metadata": {
  "kernelspec": {
   "display_name": "Python 3",
   "language": "python",
   "name": "python3"
  },
  "language_info": {
   "codemirror_mode": {
    "name": "ipython",
    "version": 2
   },
   "file_extension": ".py",
   "mimetype": "text/x-python",
   "name": "python",
   "nbconvert_exporter": "python",
   "pygments_lexer": "ipython2",
   "version": "2.7.6"
  }
 },
 "nbformat": 4,
 "nbformat_minor": 0
}