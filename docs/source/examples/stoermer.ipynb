{
 "cells": [
  {
   "cell_type": "markdown",
   "source": [
    "# Störmer's Method\n",
    "\n",
    "As a demonstration how *findiff* can be used to symbolically create iteration\n",
    "algorithms, we will apply it to the simple ordinary differential\n",
    "equation of a harmonic oscillator:\n",
    "\n",
    "$$\n",
    "u'' + \\omega^2 u = 0\n",
    "$$\n",
    "\n",
    "with the initial conditions $u(0) = a$ and $u'(0) = 0$."
   ],
   "metadata": {
    "collapsed": false,
    "pycharm": {
     "name": "#%% md\n"
    }
   }
  },
  {
   "cell_type": "markdown",
   "source": [
    "If you want to follow along, install *findiff* and start up iPython or a Jupyter notebook.\n",
    "We will need the `Stencil` class and some features for symbolic operations contained in the\n",
    "`findiff.symbolics` subpackage."
   ],
   "metadata": {
    "collapsed": false,
    "pycharm": {
     "name": "#%% md\n"
    }
   }
  },
  {
   "cell_type": "code",
   "execution_count": 1,
   "outputs": [],
   "source": [
    "from findiff import Stencil\n",
    "from findiff.symbolics import Equation, Symbol"
   ],
   "metadata": {
    "collapsed": false,
    "pycharm": {
     "name": "#%%\n"
    }
   }
  },
  {
   "cell_type": "markdown",
   "source": [
    "All symbolic features of *findiff* are based on *sympy*. In fact,\n",
    "`Symbol` is identical with the *sympy* version of `Symbol`. It is just included so the users\n",
    "don't have to import if from *sympy* manually. The `Equation` class is a subclass of *sympy*'s\n",
    "`Eq` class, but it has several additional features convenient for the present use case\n",
    "compared to the parent class."
   ],
   "metadata": {
    "collapsed": false,
    "pycharm": {
     "name": "#%% md\n"
    }
   }
  },
  {
   "cell_type": "markdown",
   "source": [
    "Next, we will discretize the second derivative $u''$ using a central scheme."
   ],
   "metadata": {
    "collapsed": false,
    "pycharm": {
     "name": "#%% md\n"
    }
   }
  },
  {
   "cell_type": "code",
   "execution_count": 2,
   "outputs": [],
   "source": [
    "stencil = Stencil(\n",
    "    offsets=[-1, 0, 1],\n",
    "    partials={(2,): 1},\n",
    "    spacings=[r'\\Delta t'],\n",
    "    symbolic=True\n",
    ")"
   ],
   "metadata": {
    "collapsed": false,
    "pycharm": {
     "name": "#%%\n"
    }
   }
  },
  {
   "cell_type": "markdown",
   "source": [
    "Now we can turn the stencil into a symbolic expression. By default, the name of the grid function is $u$,\n",
    "but this can be adjusted."
   ],
   "metadata": {
    "collapsed": false,
    "pycharm": {
     "name": "#%% md\n"
    }
   }
  },
  {
   "cell_type": "code",
   "execution_count": 3,
   "outputs": [],
   "source": [
    "expr, symbols = stencil.as_expression(index_symbols='n')"
   ],
   "metadata": {
    "collapsed": false,
    "pycharm": {
     "name": "#%%\n"
    }
   }
  },
  {
   "cell_type": "markdown",
   "source": [
    "This returns the expression and also a dictionary with the symbols, so that we can use them\n",
    "in our code."
   ],
   "metadata": {
    "collapsed": false,
    "pycharm": {
     "name": "#%% md\n"
    }
   }
  },
  {
   "cell_type": "code",
   "execution_count": 4,
   "outputs": [
    {
     "data": {
      "text/plain": "u[n + 1]/\\Delta t**2 + u[n - 1]/\\Delta t**2 - 2*u[n]/\\Delta t**2",
      "text/latex": "$\\displaystyle \\frac{{u}_{n + 1}}{\\Delta t^{2}} + \\frac{{u}_{n - 1}}{\\Delta t^{2}} - \\frac{2 {u}_{n}}{\\Delta t^{2}}$"
     },
     "execution_count": 4,
     "metadata": {},
     "output_type": "execute_result"
    }
   ],
   "source": [
    "expr"
   ],
   "metadata": {
    "collapsed": false,
    "pycharm": {
     "name": "#%%\n"
    }
   }
  },
  {
   "cell_type": "code",
   "execution_count": 5,
   "outputs": [
    {
     "data": {
      "text/plain": "{'indices': [n], 'function': u, 'spacings': [\\Delta t]}"
     },
     "execution_count": 5,
     "metadata": {},
     "output_type": "execute_result"
    }
   ],
   "source": [
    "symbols"
   ],
   "metadata": {
    "collapsed": false,
    "pycharm": {
     "name": "#%%\n"
    }
   }
  },
  {
   "cell_type": "code",
   "execution_count": 6,
   "outputs": [],
   "source": [
    "n, = symbols['indices']\n",
    "u = symbols['function']\n",
    "dx, = symbols['spacings']"
   ],
   "metadata": {
    "collapsed": false,
    "pycharm": {
     "name": "#%%\n"
    }
   }
  },
  {
   "cell_type": "markdown",
   "source": [
    "Now we define our discretized equation:"
   ],
   "metadata": {
    "collapsed": false,
    "pycharm": {
     "name": "#%% md\n"
    }
   }
  },
  {
   "cell_type": "code",
   "execution_count": 7,
   "outputs": [
    {
     "data": {
      "text/plain": "Eq(\\omega**2*u[n] + u[n + 1]/\\Delta t**2 + u[n - 1]/\\Delta t**2 - 2*u[n]/\\Delta t**2, 0)",
      "text/latex": "$\\displaystyle \\omega^{2} {u}_{n} + \\frac{{u}_{n + 1}}{\\Delta t^{2}} + \\frac{{u}_{n - 1}}{\\Delta t^{2}} - \\frac{2 {u}_{n}}{\\Delta t^{2}} = 0$"
     },
     "execution_count": 7,
     "metadata": {},
     "output_type": "execute_result"
    }
   ],
   "source": [
    "w = Symbol(r'\\omega')\n",
    "eq = Equation(expr + w**2 * u[n], 0)\n",
    "eq"
   ],
   "metadata": {
    "collapsed": false,
    "pycharm": {
     "name": "#%%\n"
    }
   }
  },
  {
   "cell_type": "markdown",
   "source": [
    "and solve it for $u_{n+1}$:"
   ],
   "metadata": {
    "collapsed": false,
    "pycharm": {
     "name": "#%% md\n"
    }
   }
  },
  {
   "cell_type": "code",
   "execution_count": 8,
   "outputs": [
    {
     "data": {
      "text/plain": "Eq(u[n + 1], -\\Delta t**2*\\omega**2*u[n] - u[n - 1] + 2*u[n])",
      "text/latex": "$\\displaystyle {u}_{n + 1} = - \\Delta t^{2} \\omega^{2} {u}_{n} - {u}_{n - 1} + 2 {u}_{n}$"
     },
     "execution_count": 8,
     "metadata": {},
     "output_type": "execute_result"
    }
   ],
   "source": [
    "eq.solve(u[n+1])"
   ],
   "metadata": {
    "collapsed": false,
    "pycharm": {
     "name": "#%%\n"
    }
   }
  },
  {
   "cell_type": "code",
   "execution_count": 9,
   "outputs": [
    {
     "data": {
      "text/plain": "Eq(u[n + 1], (-\\Delta t**2*\\omega**2 + 2)*u[n] - u[n - 1])",
      "text/latex": "$\\displaystyle {u}_{n + 1} = \\left(- \\Delta t^{2} \\omega^{2} + 2\\right) {u}_{n} - {u}_{n - 1}$"
     },
     "execution_count": 9,
     "metadata": {},
     "output_type": "execute_result"
    }
   ],
   "source": [
    "import findiff.symbolics as sym\n",
    "sym.collect(_, u[n])"
   ],
   "metadata": {
    "collapsed": false,
    "pycharm": {
     "name": "#%%\n"
    }
   }
  },
  {
   "cell_type": "markdown",
   "source": [
    "Now we have $u_{n+1}$ in terms of the previous grid points. So we have an explicit iteration scheme.\n",
    "This scheme is sometimes called Störmer's method."
   ],
   "metadata": {
    "collapsed": false,
    "pycharm": {
     "name": "#%% md\n"
    }
   }
  },
  {
   "cell_type": "code",
   "execution_count": 10,
   "outputs": [],
   "source": [
    "stoermer = _"
   ],
   "metadata": {
    "collapsed": false,
    "pycharm": {
     "name": "#%%\n"
    }
   }
  },
  {
   "cell_type": "markdown",
   "source": [
    "But there is still one issue to solve. Look at what happens for $n=0$:"
   ],
   "metadata": {
    "collapsed": false,
    "pycharm": {
     "name": "#%% md\n"
    }
   }
  },
  {
   "cell_type": "code",
   "execution_count": 11,
   "outputs": [
    {
     "data": {
      "text/plain": "Eq(u[1], (-\\Delta t**2*\\omega**2 + 2)*u[0] - u[-1])",
      "text/latex": "$\\displaystyle {u}_{1} = \\left(- \\Delta t^{2} \\omega^{2} + 2\\right) {u}_{0} - {u}_{-1}$"
     },
     "execution_count": 11,
     "metadata": {},
     "output_type": "execute_result"
    }
   ],
   "source": [
    "stoermer.subs({n: 0})"
   ],
   "metadata": {
    "collapsed": false,
    "pycharm": {
     "name": "#%%\n"
    }
   }
  },
  {
   "cell_type": "markdown",
   "source": [
    "To determine $u_1$ we would need $u_{-1}$, which does not even exist. But fortunately,\n",
    "we can get rid of it using the initial condition $u'(0)=0$. Discretize that condition:"
   ],
   "metadata": {
    "collapsed": false,
    "pycharm": {
     "name": "#%% md\n"
    }
   }
  },
  {
   "cell_type": "code",
   "execution_count": 12,
   "outputs": [
    {
     "data": {
      "text/plain": "Eq(-u[-1]/(2*\\Delta t) + u[1]/(2*\\Delta t), 0)",
      "text/latex": "$\\displaystyle - \\frac{{u}_{-1}}{2 \\Delta t} + \\frac{{u}_{1}}{2 \\Delta t} = 0$"
     },
     "execution_count": 12,
     "metadata": {},
     "output_type": "execute_result"
    }
   ],
   "source": [
    "stencil = Stencil(offsets=[-1, 1], partials={(1,):1}, spacings=[dx], symbolic=True)\n",
    "expr, symbols = stencil.as_expression(index_symbols=['n'])\n",
    "eq = Equation(expr.subs(n, 0), 0)\n",
    "eq"
   ],
   "metadata": {
    "collapsed": false,
    "pycharm": {
     "name": "#%%\n"
    }
   }
  },
  {
   "cell_type": "markdown",
   "source": [
    "Solve that for $u_{-1}$"
   ],
   "metadata": {
    "collapsed": false,
    "pycharm": {
     "name": "#%% md\n"
    }
   }
  },
  {
   "cell_type": "code",
   "execution_count": 13,
   "outputs": [
    {
     "data": {
      "text/plain": "Eq(u[-1], u[1])",
      "text/latex": "$\\displaystyle {u}_{-1} = {u}_{1}$"
     },
     "execution_count": 13,
     "metadata": {},
     "output_type": "execute_result"
    }
   ],
   "source": [
    "eq = eq.solve(u[-1])\n",
    "eq"
   ],
   "metadata": {
    "collapsed": false,
    "pycharm": {
     "name": "#%%\n"
    }
   }
  },
  {
   "cell_type": "markdown",
   "source": [
    "And finally substitute that in our expression for the first step:"
   ],
   "metadata": {
    "collapsed": false,
    "pycharm": {
     "name": "#%% md\n"
    }
   }
  },
  {
   "cell_type": "code",
   "execution_count": 14,
   "outputs": [
    {
     "data": {
      "text/plain": "Eq(u[1], (-\\Delta t**2*\\omega**2 + 2)*u[0] - u[1])",
      "text/latex": "$\\displaystyle {u}_{1} = \\left(- \\Delta t^{2} \\omega^{2} + 2\\right) {u}_{0} - {u}_{1}$"
     },
     "execution_count": 14,
     "metadata": {},
     "output_type": "execute_result"
    }
   ],
   "source": [
    "stoermer.subs({n: 0}).subs(eq.as_subs())"
   ],
   "metadata": {
    "collapsed": false,
    "pycharm": {
     "name": "#%%\n"
    }
   }
  },
  {
   "cell_type": "code",
   "execution_count": 15,
   "outputs": [
    {
     "data": {
      "text/plain": "Eq(u[1], (-\\Delta t**2*\\omega**2 + 2)*u[0]/2)",
      "text/latex": "$\\displaystyle {u}_{1} = \\frac{\\left(- \\Delta t^{2} \\omega^{2} + 2\\right) {u}_{0}}{2}$"
     },
     "execution_count": 15,
     "metadata": {},
     "output_type": "execute_result"
    }
   ],
   "source": [
    "_.solve(u[1])"
   ],
   "metadata": {
    "collapsed": false,
    "pycharm": {
     "name": "#%%\n"
    }
   }
  },
  {
   "cell_type": "markdown",
   "source": [
    "Now we have all we need:\n",
    "\n",
    "- Having $u_0$ (the initial condition!), obtain the first step $u_1$\n",
    "- For $n>1$, determine $u_{n+1}$ from the iteration scheme"
   ],
   "metadata": {
    "collapsed": false,
    "pycharm": {
     "name": "#%% md\n"
    }
   }
  },
  {
   "cell_type": "code",
   "execution_count": 16,
   "outputs": [
    {
     "data": {
      "text/plain": "Eq(u[n + 1], (-\\Delta t**2*\\omega**2 + 2)*u[n] - u[n - 1])",
      "text/latex": "$\\displaystyle {u}_{n + 1} = \\left(- \\Delta t^{2} \\omega^{2} + 2\\right) {u}_{n} - {u}_{n - 1}$"
     },
     "execution_count": 16,
     "metadata": {},
     "output_type": "execute_result"
    }
   ],
   "source": [
    "stoermer"
   ],
   "metadata": {
    "collapsed": false,
    "pycharm": {
     "name": "#%%\n"
    }
   }
  }
 ],
 "metadata": {
  "kernelspec": {
   "display_name": "Python 3",
   "language": "python",
   "name": "python3"
  },
  "language_info": {
   "codemirror_mode": {
    "name": "ipython",
    "version": 2
   },
   "file_extension": ".py",
   "mimetype": "text/x-python",
   "name": "python",
   "nbconvert_exporter": "python",
   "pygments_lexer": "ipython2",
   "version": "2.7.6"
  }
 },
 "nbformat": 4,
 "nbformat_minor": 0
}