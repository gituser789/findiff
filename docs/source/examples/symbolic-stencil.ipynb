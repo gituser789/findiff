{
 "cells": [
  {
   "cell_type": "markdown",
   "source": [
    "# Symbolic Stencils\n",
    "\n",
    "Suppose you have to discretize a differential operator like\n",
    "\n",
    "$$\n",
    "\\frac{\\partial^2}{\\partial x_0^2} +2 \\frac{\\partial^2}{\\partial x_0\\partial x_1} + \\frac{\\partial^2}{\\partial x_1^2}\n",
    "$$"
   ],
   "metadata": {
    "collapsed": false,
    "pycharm": {
     "name": "#%% md\n"
    }
   }
  },
  {
   "cell_type": "markdown",
   "source": [
    "but you don't want to use the `FinDiff` objects, for example because you want to\n",
    "transfer the discretization scheme to some other programming language or you\n",
    "need the discretized operator for some analytic work. This is where symbolic\n",
    "`Stencil`s come in handy. `Stencil`s allow to discretize differential operators\n",
    "of the form\n",
    "\n",
    "$$\n",
    "\\sum_i c_i \\prod_{j=1}^N \\frac{\\partial^{n_j}}{\\partial x_j^{n_j}}\n",
    "$$\n",
    "\n",
    "based on a given set of offsets. Here, $N$ is the number of dimensions of space,\n",
    "$c_i$ are real constants and $n_j$ are non-negative integers."
   ],
   "metadata": {
    "collapsed": false,
    "pycharm": {
     "name": "#%% md\n"
    }
   }
  },
  {
   "cell_type": "markdown",
   "source": [
    "There are two ways to specify such a differential operator for a `Stencil` object: by dict and by symbolics.\n",
    "Let's start with symbolics."
   ],
   "metadata": {
    "collapsed": false,
    "pycharm": {
     "name": "#%% md\n"
    }
   }
  },
  {
   "cell_type": "code",
   "execution_count": 20,
   "outputs": [
    {
     "data": {
      "text/plain": "{(-1, -1): 1/2, (-1, 0): 1, (-1, 1): -1/2, (0, -1): 1, (0, 0): -4, (0, 1): 1, (1, -1): -1/2, (1, 0): 1, (1, 1): 1/2}"
     },
     "execution_count": 20,
     "metadata": {},
     "output_type": "execute_result"
    }
   ],
   "source": [
    "from findiff.symbolics import DerivativeSymbol as D # stands for the partial derivative operator\n",
    "from findiff import Stencil\n",
    "from itertools import product\n",
    "\n",
    "offsets = list(product([-1, 0, 1], repeat=2))\n",
    "\n",
    "diff = D(0, 2) + 2 * D(0) * D(1) + D(1, 2)\n",
    "stencil = Stencil(offsets, diff, spacings=[1, 1], symbolic=True)\n",
    "stencil"
   ],
   "metadata": {
    "collapsed": false,
    "pycharm": {
     "name": "#%%\n"
    }
   }
  },
  {
   "cell_type": "markdown",
   "source": [
    "Alternatively, instead of using `DerivativeSymbol`, we could have defined the same operator as a dict:"
   ],
   "metadata": {
    "collapsed": false,
    "pycharm": {
     "name": "#%% md\n"
    }
   }
  },
  {
   "cell_type": "code",
   "execution_count": 2,
   "outputs": [
    {
     "data": {
      "text/plain": "{(-1, -1): 1/2, (-1, 0): 1, (-1, 1): -1/2, (0, -1): 1, (0, 0): -4, (0, 1): 1, (1, -1): -1/2, (1, 0): 1, (1, 1): 1/2}"
     },
     "execution_count": 2,
     "metadata": {},
     "output_type": "execute_result"
    }
   ],
   "source": [
    "diff = {(2, 0): 1, (1, 1): 2, (0, 2): 1}\n",
    "stencil = Stencil(offsets, diff, spacings=[1, 1], symbolic=True)\n",
    "stencil"
   ],
   "metadata": {
    "collapsed": false,
    "pycharm": {
     "name": "#%%\n"
    }
   }
  },
  {
   "cell_type": "markdown",
   "source": [
    "Here, each key stands for a term in the sum, the entries in the key-tuple denote the $n_j$ and the values are the $c_i$."
   ],
   "metadata": {
    "collapsed": false,
    "pycharm": {
     "name": "#%% md\n"
    }
   }
  },
  {
   "cell_type": "markdown",
   "source": [
    "The accuracy (actually error order) can be obtained from the `accuracy` property:"
   ],
   "metadata": {
    "collapsed": false,
    "pycharm": {
     "name": "#%% md\n"
    }
   }
  },
  {
   "cell_type": "code",
   "execution_count": 3,
   "outputs": [
    {
     "data": {
      "text/plain": "2"
     },
     "execution_count": 3,
     "metadata": {},
     "output_type": "execute_result"
    }
   ],
   "source": [
    "stencil.accuracy"
   ],
   "metadata": {
    "collapsed": false,
    "pycharm": {
     "name": "#%%\n"
    }
   }
  },
  {
   "cell_type": "markdown",
   "source": [
    "If your grid has different spacing along the various axes, you can define that with the `spacing` argument,\n",
    "which takes a list with a length equal to the number of dimensions. As spacings, you can also define symbolic\n",
    "values, like"
   ],
   "metadata": {
    "collapsed": false,
    "pycharm": {
     "name": "#%% md\n"
    }
   }
  },
  {
   "cell_type": "code",
   "execution_count": 4,
   "outputs": [
    {
     "data": {
      "text/plain": "{(-1, -1): 1/(2*\\Delta x*\\Delta y), (-1, 0): \\Delta x**(-2), (-1, 1): -1/(2*\\Delta x*\\Delta y), (0, -1): \\Delta y**(-2), (0, 0): (-2*\\Delta x**2 - 2*\\Delta y**2)/(\\Delta x**2*\\Delta y**2), (0, 1): \\Delta y**(-2), (1, -1): -1/(2*\\Delta x*\\Delta y), (1, 0): \\Delta x**(-2), (1, 1): 1/(2*\\Delta x*\\Delta y)}"
     },
     "execution_count": 4,
     "metadata": {},
     "output_type": "execute_result"
    }
   ],
   "source": [
    "stencil = Stencil(offsets, diff, spacings=[r'\\Delta x', r'\\Delta y'], symbolic=True)\n",
    "stencil"
   ],
   "metadata": {
    "collapsed": false,
    "pycharm": {
     "name": "#%%\n"
    }
   }
  },
  {
   "cell_type": "markdown",
   "source": [
    "You can access single entries of the stencil with the bracket notation:"
   ],
   "metadata": {
    "collapsed": false,
    "pycharm": {
     "name": "#%% md\n"
    }
   }
  },
  {
   "cell_type": "code",
   "execution_count": 5,
   "outputs": [
    {
     "data": {
      "text/plain": "1/(2*\\Delta x*\\Delta y)",
      "text/latex": "$\\displaystyle \\frac{1}{2 \\Delta x \\Delta y}$"
     },
     "execution_count": 5,
     "metadata": {},
     "output_type": "execute_result"
    }
   ],
   "source": [
    "stencil[-1, -1]"
   ],
   "metadata": {
    "collapsed": false,
    "pycharm": {
     "name": "#%%\n"
    }
   }
  },
  {
   "cell_type": "markdown",
   "source": [
    "or loop over all values using the `keys()` method:"
   ],
   "metadata": {
    "collapsed": false,
    "pycharm": {
     "name": "#%% md\n"
    }
   }
  },
  {
   "cell_type": "code",
   "execution_count": 8,
   "outputs": [
    {
     "data": {
      "text/plain": "1/(2*\\Delta x*\\Delta y)",
      "text/latex": "$\\displaystyle \\frac{1}{2 \\Delta x \\Delta y}$"
     },
     "metadata": {},
     "output_type": "display_data"
    },
    {
     "data": {
      "text/plain": "\\Delta x**(-2)",
      "text/latex": "$\\displaystyle \\frac{1}{\\Delta x^{2}}$"
     },
     "metadata": {},
     "output_type": "display_data"
    },
    {
     "data": {
      "text/plain": "-1/(2*\\Delta x*\\Delta y)",
      "text/latex": "$\\displaystyle - \\frac{1}{2 \\Delta x \\Delta y}$"
     },
     "metadata": {},
     "output_type": "display_data"
    },
    {
     "data": {
      "text/plain": "\\Delta y**(-2)",
      "text/latex": "$\\displaystyle \\frac{1}{\\Delta y^{2}}$"
     },
     "metadata": {},
     "output_type": "display_data"
    },
    {
     "data": {
      "text/plain": "(-2*\\Delta x**2 - 2*\\Delta y**2)/(\\Delta x**2*\\Delta y**2)",
      "text/latex": "$\\displaystyle \\frac{- 2 \\Delta x^{2} - 2 \\Delta y^{2}}{\\Delta x^{2} \\Delta y^{2}}$"
     },
     "metadata": {},
     "output_type": "display_data"
    },
    {
     "data": {
      "text/plain": "\\Delta y**(-2)",
      "text/latex": "$\\displaystyle \\frac{1}{\\Delta y^{2}}$"
     },
     "metadata": {},
     "output_type": "display_data"
    },
    {
     "data": {
      "text/plain": "-1/(2*\\Delta x*\\Delta y)",
      "text/latex": "$\\displaystyle - \\frac{1}{2 \\Delta x \\Delta y}$"
     },
     "metadata": {},
     "output_type": "display_data"
    },
    {
     "data": {
      "text/plain": "\\Delta x**(-2)",
      "text/latex": "$\\displaystyle \\frac{1}{\\Delta x^{2}}$"
     },
     "metadata": {},
     "output_type": "display_data"
    },
    {
     "data": {
      "text/plain": "1/(2*\\Delta x*\\Delta y)",
      "text/latex": "$\\displaystyle \\frac{1}{2 \\Delta x \\Delta y}$"
     },
     "metadata": {},
     "output_type": "display_data"
    }
   ],
   "source": [
    "from IPython.display import display\n",
    "\n",
    "for key in stencil.keys():\n",
    "    display(stencil[key])"
   ],
   "metadata": {
    "collapsed": false,
    "pycharm": {
     "name": "#%%\n"
    }
   }
  },
  {
   "cell_type": "markdown",
   "source": [
    "And finally, you can convert the stencil into a Sympy expression for further processing:"
   ],
   "metadata": {
    "collapsed": false,
    "pycharm": {
     "name": "#%% md\n"
    }
   }
  },
  {
   "cell_type": "code",
   "execution_count": 12,
   "outputs": [
    {
     "data": {
      "text/plain": "u[i_0, i_1 + 1]/\\Delta y**2 + u[i_0, i_1 - 1]/\\Delta y**2 + u[i_0 + 1, i_1 + 1]/(2*\\Delta x*\\Delta y) - u[i_0 + 1, i_1 - 1]/(2*\\Delta x*\\Delta y) - u[i_0 - 1, i_1 + 1]/(2*\\Delta x*\\Delta y) + u[i_0 - 1, i_1 - 1]/(2*\\Delta x*\\Delta y) + u[i_0 + 1, i_1]/\\Delta x**2 + u[i_0 - 1, i_1]/\\Delta x**2 + (-2*\\Delta x**2 - 2*\\Delta y**2)*u[i_0, i_1]/(\\Delta x**2*\\Delta y**2)",
      "text/latex": "$\\displaystyle \\frac{{u}_{i_{0},i_{1} + 1}}{\\Delta y^{2}} + \\frac{{u}_{i_{0},i_{1} - 1}}{\\Delta y^{2}} + \\frac{{u}_{i_{0} + 1,i_{1} + 1}}{2 \\Delta x \\Delta y} - \\frac{{u}_{i_{0} + 1,i_{1} - 1}}{2 \\Delta x \\Delta y} - \\frac{{u}_{i_{0} - 1,i_{1} + 1}}{2 \\Delta x \\Delta y} + \\frac{{u}_{i_{0} - 1,i_{1} - 1}}{2 \\Delta x \\Delta y} + \\frac{{u}_{i_{0} + 1,i_{1}}}{\\Delta x^{2}} + \\frac{{u}_{i_{0} - 1,i_{1}}}{\\Delta x^{2}} + \\frac{\\left(- 2 \\Delta x^{2} - 2 \\Delta y^{2}\\right) {u}_{i_{0},i_{1}}}{\\Delta x^{2} \\Delta y^{2}}$"
     },
     "execution_count": 12,
     "metadata": {},
     "output_type": "execute_result"
    }
   ],
   "source": [
    "expr, symbols = stencil.as_expression()\n",
    "expr"
   ],
   "metadata": {
    "collapsed": false,
    "pycharm": {
     "name": "#%%\n"
    }
   }
  },
  {
   "cell_type": "markdown",
   "source": [
    "If you access to the symbols, that's what the second return value is for:"
   ],
   "metadata": {
    "collapsed": false,
    "pycharm": {
     "name": "#%% md\n"
    }
   }
  },
  {
   "cell_type": "code",
   "execution_count": 13,
   "outputs": [
    {
     "data": {
      "text/plain": "{'indices': [i_0, i_1], 'function': u, 'spacings': [\\Delta x, \\Delta y]}"
     },
     "execution_count": 13,
     "metadata": {},
     "output_type": "execute_result"
    }
   ],
   "source": [
    "symbols"
   ],
   "metadata": {
    "collapsed": false,
    "pycharm": {
     "name": "#%%\n"
    }
   }
  },
  {
   "cell_type": "code",
   "execution_count": 15,
   "outputs": [
    {
     "data": {
      "text/plain": "Eq(u[i_0, i_1 + 1]/\\Delta y**2 + u[i_0, i_1 - 1]/\\Delta y**2 + u[i_0 + 1, i_1 + 1]/(2*\\Delta x*\\Delta y) - u[i_0 + 1, i_1 - 1]/(2*\\Delta x*\\Delta y) - u[i_0 - 1, i_1 + 1]/(2*\\Delta x*\\Delta y) + u[i_0 - 1, i_1 - 1]/(2*\\Delta x*\\Delta y) + u[i_0 + 1, i_1]/\\Delta x**2 + u[i_0 - 1, i_1]/\\Delta x**2 + (-2*\\Delta x**2 - 2*\\Delta y**2)*u[i_0, i_1]/(\\Delta x**2*\\Delta y**2), 0)",
      "text/latex": "$\\displaystyle \\frac{{u}_{i_{0},i_{1} + 1}}{\\Delta y^{2}} + \\frac{{u}_{i_{0},i_{1} - 1}}{\\Delta y^{2}} + \\frac{{u}_{i_{0} + 1,i_{1} + 1}}{2 \\Delta x \\Delta y} - \\frac{{u}_{i_{0} + 1,i_{1} - 1}}{2 \\Delta x \\Delta y} - \\frac{{u}_{i_{0} - 1,i_{1} + 1}}{2 \\Delta x \\Delta y} + \\frac{{u}_{i_{0} - 1,i_{1} - 1}}{2 \\Delta x \\Delta y} + \\frac{{u}_{i_{0} + 1,i_{1}}}{\\Delta x^{2}} + \\frac{{u}_{i_{0} - 1,i_{1}}}{\\Delta x^{2}} + \\frac{\\left(- 2 \\Delta x^{2} - 2 \\Delta y^{2}\\right) {u}_{i_{0},i_{1}}}{\\Delta x^{2} \\Delta y^{2}} = 0$"
     },
     "execution_count": 15,
     "metadata": {},
     "output_type": "execute_result"
    }
   ],
   "source": [
    "i0, i1 = symbols['indices']\n",
    "u = symbols['function']\n",
    "\n",
    "from findiff.symbolics import Equation\n",
    "\n",
    "eq = Equation(expr, 0)\n",
    "eq"
   ],
   "metadata": {
    "collapsed": false,
    "pycharm": {
     "name": "#%%\n"
    }
   }
  },
  {
   "cell_type": "code",
   "execution_count": 16,
   "outputs": [
    {
     "data": {
      "text/plain": "Eq(u[i_0, i_1], (2*\\Delta x**2*u[i_0, i_1 + 1] + 2*\\Delta x**2*u[i_0, i_1 - 1] + \\Delta x*\\Delta y*u[i_0 + 1, i_1 + 1] - \\Delta x*\\Delta y*u[i_0 + 1, i_1 - 1] - \\Delta x*\\Delta y*u[i_0 - 1, i_1 + 1] + \\Delta x*\\Delta y*u[i_0 - 1, i_1 - 1] + 2*\\Delta y**2*u[i_0 + 1, i_1] + 2*\\Delta y**2*u[i_0 - 1, i_1])/(4*(\\Delta x**2 + \\Delta y**2)))",
      "text/latex": "$\\displaystyle {u}_{i_{0},i_{1}} = \\frac{2 \\Delta x^{2} {u}_{i_{0},i_{1} + 1} + 2 \\Delta x^{2} {u}_{i_{0},i_{1} - 1} + \\Delta x \\Delta y {u}_{i_{0} + 1,i_{1} + 1} - \\Delta x \\Delta y {u}_{i_{0} + 1,i_{1} - 1} - \\Delta x \\Delta y {u}_{i_{0} - 1,i_{1} + 1} + \\Delta x \\Delta y {u}_{i_{0} - 1,i_{1} - 1} + 2 \\Delta y^{2} {u}_{i_{0} + 1,i_{1}} + 2 \\Delta y^{2} {u}_{i_{0} - 1,i_{1}}}{4 \\left(\\Delta x^{2} + \\Delta y^{2}\\right)}$"
     },
     "execution_count": 16,
     "metadata": {},
     "output_type": "execute_result"
    }
   ],
   "source": [
    "eq.solve(u[i0, i1])"
   ],
   "metadata": {
    "collapsed": false,
    "pycharm": {
     "name": "#%%\n"
    }
   }
  }
 ],
 "metadata": {
  "kernelspec": {
   "display_name": "Python 3",
   "language": "python",
   "name": "python3"
  },
  "language_info": {
   "codemirror_mode": {
    "name": "ipython",
    "version": 2
   },
   "file_extension": ".py",
   "mimetype": "text/x-python",
   "name": "python",
   "nbconvert_exporter": "python",
   "pygments_lexer": "ipython2",
   "version": "2.7.6"
  }
 },
 "nbformat": 4,
 "nbformat_minor": 0
}